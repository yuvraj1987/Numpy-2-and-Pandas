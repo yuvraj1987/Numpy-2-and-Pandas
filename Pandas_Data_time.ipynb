{
 "cells": [
  {
   "cell_type": "code",
   "execution_count": 1,
   "metadata": {},
   "outputs": [],
   "source": [
    "#Question :- Create a DateTime Index that contains each business day of 2015 and Use it to Index a Series of Random Number\n",
    "    "
   ]
  },
  {
   "cell_type": "code",
   "execution_count": 41,
   "metadata": {},
   "outputs": [
    {
     "data": {
      "text/html": [
       "<div>\n",
       "<style scoped>\n",
       "    .dataframe tbody tr th:only-of-type {\n",
       "        vertical-align: middle;\n",
       "    }\n",
       "\n",
       "    .dataframe tbody tr th {\n",
       "        vertical-align: top;\n",
       "    }\n",
       "\n",
       "    .dataframe thead th {\n",
       "        text-align: right;\n",
       "    }\n",
       "</style>\n",
       "<table border=\"1\" class=\"dataframe\">\n",
       "  <thead>\n",
       "    <tr style=\"text-align: right;\">\n",
       "      <th></th>\n",
       "      <th>YY_MM_DD</th>\n",
       "    </tr>\n",
       "  </thead>\n",
       "  <tbody>\n",
       "    <tr>\n",
       "      <th>0</th>\n",
       "      <td>2015-01-01</td>\n",
       "    </tr>\n",
       "    <tr>\n",
       "      <th>1</th>\n",
       "      <td>2015-01-02</td>\n",
       "    </tr>\n",
       "    <tr>\n",
       "      <th>2</th>\n",
       "      <td>2015-01-03</td>\n",
       "    </tr>\n",
       "    <tr>\n",
       "      <th>3</th>\n",
       "      <td>2015-01-04</td>\n",
       "    </tr>\n",
       "    <tr>\n",
       "      <th>4</th>\n",
       "      <td>2015-01-05</td>\n",
       "    </tr>\n",
       "  </tbody>\n",
       "</table>\n",
       "</div>"
      ],
      "text/plain": [
       "    YY_MM_DD\n",
       "0 2015-01-01\n",
       "1 2015-01-02\n",
       "2 2015-01-03\n",
       "3 2015-01-04\n",
       "4 2015-01-05"
      ]
     },
     "execution_count": 41,
     "metadata": {},
     "output_type": "execute_result"
    }
   ],
   "source": [
    "dayOfWeek={0:'Monday', 1:'Tuesday', 2:'Wednesday', 3:'Thursday', 4:'Friday', 5:'Saturday', 6:'Sunday'} #\n",
    "import pandas as pd\n",
    "import random\n",
    "\n",
    "df_2015 = pd.DataFrame()\n",
    "\n",
    "df_2015[\"YY_MM_DD\"] = pd.date_range('2015-01-01', '2015-12-31', freq='D')\n",
    "\n",
    "\n",
    "df_2015.head()\n",
    "\n",
    "\n"
   ]
  },
  {
   "cell_type": "code",
   "execution_count": 42,
   "metadata": {},
   "outputs": [
    {
     "data": {
      "text/html": [
       "<div>\n",
       "<style scoped>\n",
       "    .dataframe tbody tr th:only-of-type {\n",
       "        vertical-align: middle;\n",
       "    }\n",
       "\n",
       "    .dataframe tbody tr th {\n",
       "        vertical-align: top;\n",
       "    }\n",
       "\n",
       "    .dataframe thead th {\n",
       "        text-align: right;\n",
       "    }\n",
       "</style>\n",
       "<table border=\"1\" class=\"dataframe\">\n",
       "  <thead>\n",
       "    <tr style=\"text-align: right;\">\n",
       "      <th></th>\n",
       "      <th>YY_MM_DD</th>\n",
       "    </tr>\n",
       "  </thead>\n",
       "  <tbody>\n",
       "    <tr>\n",
       "      <th>1</th>\n",
       "      <td>2015-01-02</td>\n",
       "    </tr>\n",
       "    <tr>\n",
       "      <th>2</th>\n",
       "      <td>2015-01-03</td>\n",
       "    </tr>\n",
       "    <tr>\n",
       "      <th>3</th>\n",
       "      <td>2015-01-04</td>\n",
       "    </tr>\n",
       "    <tr>\n",
       "      <th>4</th>\n",
       "      <td>2015-01-05</td>\n",
       "    </tr>\n",
       "    <tr>\n",
       "      <th>5</th>\n",
       "      <td>2015-01-06</td>\n",
       "    </tr>\n",
       "  </tbody>\n",
       "</table>\n",
       "</div>"
      ],
      "text/plain": [
       "    YY_MM_DD\n",
       "1 2015-01-02\n",
       "2 2015-01-03\n",
       "3 2015-01-04\n",
       "4 2015-01-05\n",
       "5 2015-01-06"
      ]
     },
     "execution_count": 42,
     "metadata": {},
     "output_type": "execute_result"
    }
   ],
   "source": [
    "df_2015 =df_2015.reindex(index=range(1,len(df_2015))) # Re-set index\n",
    "df_2015.head()"
   ]
  },
  {
   "cell_type": "code",
   "execution_count": 43,
   "metadata": {},
   "outputs": [
    {
     "name": "stdout",
     "output_type": "stream",
     "text": [
      "Saturday     52\n",
      "Sunday       52\n",
      "Friday       52\n",
      "Tuesday      52\n",
      "Thursday     52\n",
      "Monday       52\n",
      "Wednesday    52\n",
      "Name: day, dtype: int64\n",
      "              YY_MM_DD  Year  Month  Date  day  day_2\n",
      "Week_day_1                                           \n",
      "Business_Day       260   260    260   260  260    260\n",
      "Week_off           104   104    104   104  104    104\n"
     ]
    }
   ],
   "source": [
    "def fun_chec(x):\n",
    "    if x == \"Sunday\" or x == \"Saturday\":\n",
    "        return str(\"Week_off\")\n",
    "    return str(\"Business_Day\")\n",
    "df_2015[\"Year\"] = df_2015[\"YY_MM_DD\"].dt.year\n",
    "df_2015[\"Month\"] = df_2015[\"YY_MM_DD\"].dt.month\n",
    "df_2015[\"Date\"] = df_2015[\"YY_MM_DD\"].dt.day\n",
    "df_2015['day'] = df_2015['YY_MM_DD'].dt.weekday_name\n",
    "df_2015['day_2']  = df_2015['YY_MM_DD'].dt.dayofweek.map(dayOfWeek)\n",
    "df_2015[\"Week_day_1\"] = df_2015[\"day_2\"].apply(lambda x : fun_chec(x))\n",
    "\n",
    "Count_of_wednesday  = df_2015[\"day\"].value_counts()\n",
    "print (df_2015.day.value_counts())\n",
    "Group_Day = df_2015.groupby(\"Week_day_1\")\n",
    "print (Group_Day.count())"
   ]
  },
  {
   "cell_type": "code",
   "execution_count": 44,
   "metadata": {},
   "outputs": [
    {
     "name": "stdout",
     "output_type": "stream",
     "text": [
      "Summing all the Date where Wednesday Occured :- 806\n",
      "Total Wednesday In the YEAR :- Wednesday    52\n",
      "Name: day, dtype: int64\n"
     ]
    }
   ],
   "source": [
    "# Question 3 :- Find the Sum of Values in S for every Wednesday\n",
    "# I am assuming that question says that sum of date where day is Wednesday :- Question Not Clear or having proper information.\n",
    "Wednesday_Data = df_2015.loc[df_2015['day'] == 'Wednesday']\n",
    "Sum_of_all_Wednesday = Wednesday_Data.Date.sum()\n",
    "print (\"Summing all the Date where Wednesday Occured :-\", Sum_of_all_Wednesday)\n",
    "print (\"Total Wednesday In the YEAR :-\",Wednesday_Data.day.value_counts())"
   ]
  },
  {
   "cell_type": "code",
   "execution_count": 45,
   "metadata": {},
   "outputs": [
    {
     "name": "stdout",
     "output_type": "stream",
     "text": [
      "Average Days in Months Or Total Days in Months:- [(1, 30), (2, 28), (3, 31), (4, 30), (5, 31), (6, 30), (7, 31), (8, 31), (9, 30), (10, 31), (11, 30), (12, 31)]\n"
     ]
    }
   ],
   "source": [
    "## Question 4 :-  Average For Each Calendar Month\n",
    "# I am assuming Question says Total Days in Months as average \n",
    "Average = (dict(df_2015.Month.value_counts())) # Sorting The into Dict..\n",
    "Average_days = [(key,value) for (key, value) in sorted(Average.items())] # Sorting Dic on Month Bases\n",
    "print (\"Average Days in Months Or Total Days in Months:-\",Average_days)"
   ]
  },
  {
   "cell_type": "code",
   "execution_count": 46,
   "metadata": {},
   "outputs": [
    {
     "name": "stdout",
     "output_type": "stream",
     "text": [
      "Average Days in Wednesday in Every Month:-\n",
      " [(1, 4), (2, 4), (3, 4), (4, 5), (5, 4), (6, 4), (7, 5), (8, 4), (9, 5), (10, 4), (11, 4), (12, 5)]\n"
     ]
    }
   ],
   "source": [
    "## Question 4 :-  Average For Each Calendar Month\n",
    "# I am assuming that question also says for Wednesday in Every Month\n",
    "Averge_Wednesday_in_month =  dict(Wednesday_Data.Month.value_counts())\n",
    "Average_wednesday = [(key,value) for (key, value) in sorted(Averge_Wednesday_in_month.items())] # Sorting Dic on Month Bases\n",
    "print (\"Average Days in Wednesday in Every Month:-\\n\",Average_wednesday)"
   ]
  },
  {
   "cell_type": "code",
   "execution_count": 47,
   "metadata": {},
   "outputs": [
    {
     "name": "stdout",
     "output_type": "stream",
     "text": [
      "Month  day      \n",
      "1      Wednesday    28\n",
      "2      Wednesday    25\n",
      "3      Wednesday    25\n",
      "4      Wednesday    29\n",
      "5      Wednesday    27\n",
      "6      Wednesday    24\n",
      "7      Wednesday    29\n",
      "8      Wednesday    26\n",
      "9      Wednesday    30\n",
      "10     Wednesday    28\n",
      "11     Wednesday    25\n",
      "12     Wednesday    30\n",
      "Name: Date, dtype: int64\n",
      "Max Date of Wednesday in First_quater:\t 29\n",
      "Max Date of Wednesday in Second_quater:\t 29\n",
      "Max Date of Wednesday in Third_quater:\t 30\n"
     ]
    }
   ],
   "source": [
    "# Question 5 :-  For Each Group of 4 Consecutive Calendar Months in S, Find the date on which the highest value Occured.\n",
    "\n",
    "Month_wise_max_date_of_wednesday =Wednesday_Data.groupby(['Month',\"day\"], sort=False)['Date'].max()\n",
    "print (Month_wise_max_date_of_wednesday)\n",
    "First_quater = Month_wise_max_date_of_wednesday[0:4].max()\n",
    "print (\"Max Date of Wednesday in First_quater:\\t\",First_quater)\n",
    "Second_quater = Month_wise_max_date_of_wednesday[5:8].max()\n",
    "print (\"Max Date of Wednesday in Second_quater:\\t\",Second_quater)\n",
    "Third_quater = Month_wise_max_date_of_wednesday[8:12].max()\n",
    "print (\"Max Date of Wednesday in Third_quater:\\t\",Third_quater)"
   ]
  },
  {
   "cell_type": "code",
   "execution_count": null,
   "metadata": {},
   "outputs": [],
   "source": []
  },
  {
   "cell_type": "code",
   "execution_count": null,
   "metadata": {},
   "outputs": [],
   "source": []
  },
  {
   "cell_type": "code",
   "execution_count": null,
   "metadata": {},
   "outputs": [],
   "source": []
  }
 ],
 "metadata": {
  "kernelspec": {
   "display_name": "Python 3",
   "language": "python",
   "name": "python3"
  },
  "language_info": {
   "codemirror_mode": {
    "name": "ipython",
    "version": 3
   },
   "file_extension": ".py",
   "mimetype": "text/x-python",
   "name": "python",
   "nbconvert_exporter": "python",
   "pygments_lexer": "ipython3",
   "version": "3.6.5"
  }
 },
 "nbformat": 4,
 "nbformat_minor": 2
}
